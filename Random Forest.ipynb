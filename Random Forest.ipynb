{
 "cells": [
  {
   "cell_type": "code",
   "execution_count": null,
   "id": "34bd2aad-26ff-446f-96f5-ab50e9cd184a",
   "metadata": {},
   "outputs": [],
   "source": [
    "import pandas as pd\n",
    "import matplotlib.pyplot as plt\n",
    "import seaborn as sns\n",
    "\n",
    "# Load the dataset\n",
    "file_path = 'waterQuality1.csv'\n",
    "data = pd.read_csv(file_path)\n",
    "\n",
    "# Display basic information about the dataset\n",
    "print(data.info())\n",
    "print(data.describe())\n"
   ]
  },
  {
   "cell_type": "code",
   "execution_count": null,
   "id": "f320fb99-eb9c-44e3-94ca-63c81ce8d052",
   "metadata": {},
   "outputs": [],
   "source": [
    "# Histograms for all features\n",
    "data.hist(figsize=(20, 20))\n",
    "plt.show()\n"
   ]
  },
  {
   "cell_type": "code",
   "execution_count": null,
   "id": "c500ac35-7dc6-41df-94f9-bec9933fee95",
   "metadata": {},
   "outputs": [],
   "source": [
    "# Histograms for all features\n",
    "data.hist(figsize=(20, 20))\n",
    "plt.show()\n"
   ]
  },
  {
   "cell_type": "code",
   "execution_count": null,
   "id": "08dadb74-b76e-4d90-a5e7-20975de68232",
   "metadata": {},
   "outputs": [],
   "source": [
    "# Correlation matrix\n",
    "corr_matrix = data.corr()\n",
    "\n",
    "# Heatmap of the correlation matrix\n",
    "plt.figure(figsize=(15, 15))\n",
    "sns.heatmap(corr_matrix, annot=True, cmap='coolwarm', fmt='.2f')\n",
    "plt.show()\n",
    "\n"
   ]
  },
  {
   "cell_type": "code",
   "execution_count": null,
   "id": "6c1c056b-4a38-45b5-959e-9aea27f2d05b",
   "metadata": {},
   "outputs": [],
   "source": [
    "# Scatter plot matrix\n",
    "sns.pairplot(data)\n",
    "plt.show()\n"
   ]
  },
  {
   "cell_type": "code",
   "execution_count": null,
   "id": "f57e7cf8-7619-4ade-afb7-ffffe35486a2",
   "metadata": {},
   "outputs": [],
   "source": [
    "import numpy as np\n",
    "\n",
    "data['is_safe'].replace('#NUM!', np.nan, inplace=True)\n"
   ]
  },
  {
   "cell_type": "code",
   "execution_count": null,
   "id": "5a496429-777b-46ff-97f3-9aba086d24c7",
   "metadata": {},
   "outputs": [],
   "source": [
    "data['is_safe'] = pd.to_numeric(data['is_safe'], errors='coerce')\n"
   ]
  },
  {
   "cell_type": "code",
   "execution_count": null,
   "id": "4667b49f-9df3-4cc1-a519-e598b89fb933",
   "metadata": {},
   "outputs": [],
   "source": [
    "data_cleaned = data.dropna(subset=['is_safe', 'ammonia'])\n"
   ]
  },
  {
   "cell_type": "code",
   "execution_count": null,
   "id": "0fcaa5ca-7dfe-416d-a4c0-bb2371febe12",
   "metadata": {},
   "outputs": [],
   "source": [
    "rows_dropped = len(data) - len(data_cleaned)\n",
    "print(f\"Number of rows dropped: {rows_dropped}\")\n",
    "data_cleaned.info()\n"
   ]
  },
  {
   "cell_type": "code",
   "execution_count": null,
   "id": "17b551e7-fcf1-4d6d-bab5-9729c15debda",
   "metadata": {},
   "outputs": [],
   "source": [
    "import pandas as pd\n",
    "\n",
    "# Load the dataset\n",
    "file_path = 'waterQuality1.csv'\n",
    "data = pd.read_csv(file_path)\n",
    "\n",
    "# Display basic information about the dataset\n",
    "print(data.info())\n",
    "print(data.describe())\n"
   ]
  },
  {
   "cell_type": "code",
   "execution_count": null,
   "id": "4cb84fd8-9ccc-4bb5-b20c-8caf39ad027b",
   "metadata": {},
   "outputs": [],
   "source": [
    "import matplotlib.pyplot as plt\n",
    "\n",
    "# Histograms for all features\n",
    "data.hist(figsize=(20, 20))\n",
    "plt.show()\n"
   ]
  },
  {
   "cell_type": "code",
   "execution_count": null,
   "id": "c0feb895-3b5f-46db-bc09-8caa5e0a18d2",
   "metadata": {},
   "outputs": [],
   "source": [
    "import seaborn as sns\n",
    "import matplotlib.pyplot as plt\n",
    "\n",
    "# Correlation matrix\n",
    "corr_matrix = data.corr()\n",
    "\n",
    "# Heatmap of the correlation matrix\n",
    "plt.figure(figsize=(15, 15))\n",
    "sns.heatmap(corr_matrix, annot=True, cmap='coolwarm', fmt='.2f')\n",
    "plt.show()\n"
   ]
  },
  {
   "cell_type": "code",
   "execution_count": null,
   "id": "dbfc17bd-588f-4a58-99b3-8488b987aeda",
   "metadata": {},
   "outputs": [],
   "source": [
    "import seaborn as sns\n",
    "\n",
    "# Scatter plot matrix\n",
    "sns.pairplot(data)\n",
    "plt.show()\n"
   ]
  },
  {
   "cell_type": "code",
   "execution_count": null,
   "id": "29851420-9d92-4f56-a4a5-1b7068af27f5",
   "metadata": {},
   "outputs": [],
   "source": [
    "import pandas as pd\n",
    "import numpy as np\n",
    "import matplotlib.pyplot as plt\n",
    "import seaborn as sns\n",
    "from sklearn.model_selection import train_test_split\n",
    "from sklearn.ensemble import RandomForestClassifier\n",
    "from sklearn.metrics import accuracy_score, precision_score, recall_score, f1_score, confusion_matrix, classification_report\n",
    "from sklearn.model_selection import GridSearchCV, RandomizedSearchCV\n"
   ]
  },
  {
   "cell_type": "code",
   "execution_count": null,
   "id": "a9383160-20fc-4882-9f17-b7b7e3e41a81",
   "metadata": {},
   "outputs": [],
   "source": [
    "# Load the dataset\n",
    "file_path = 'waterQuality1.csv'\n",
    "data = pd.read_csv(file_path)\n"
   ]
  },
  {
   "cell_type": "code",
   "execution_count": null,
   "id": "6bb98357-a84b-4c60-ba16-63dc1e992a44",
   "metadata": {},
   "outputs": [],
   "source": [
    "# Replace '#NUM!' with NaN in 'is_safe' column\n",
    "data['is_safe'].replace('#NUM!', np.nan, inplace=True)\n",
    "\n",
    "# Convert 'is_safe' column to numeric\n",
    "data['is_safe'] = pd.to_numeric(data['is_safe'], errors='coerce')\n",
    "\n",
    "# Convert 'ammonia' column to numeric\n",
    "data['ammonia'] = pd.to_numeric(data['ammonia'], errors='coerce')\n",
    "\n",
    "# Drop rows with NaNs in 'is_safe' and 'ammonia' columns\n",
    "data_cleaned = data.dropna(subset=['is_safe', 'ammonia'])\n"
   ]
  },
  {
   "cell_type": "code",
   "execution_count": null,
   "id": "26d3daec-4961-49bb-9b84-e30399c13629",
   "metadata": {},
   "outputs": [],
   "source": [
    "# Check for categorical variables\n",
    "categorical_cols = data_cleaned.select_dtypes(include=['object']).columns\n",
    "\n",
    "# One-Hot Encode categorical variables\n",
    "data_cleaned = pd.get_dummies(data_cleaned, columns=categorical_cols, drop_first=True)\n"
   ]
  },
  {
   "cell_type": "code",
   "execution_count": null,
   "id": "cc69cbfb-86fc-469e-aa58-a8aa8e5e43a5",
   "metadata": {},
   "outputs": [],
   "source": [
    "# Define features and target variable\n",
    "X = data_cleaned.drop('is_safe', axis=1)\n",
    "y = data_cleaned['is_safe']\n",
    "\n",
    "# Split the dataset into training and testing sets\n",
    "X_train, X_test, y_train, y_test = train_test_split(X, y, test_size=0.2, random_state=42)\n"
   ]
  },
  {
   "cell_type": "code",
   "execution_count": null,
   "id": "9f076e86-c001-4436-82d5-577d73c364a9",
   "metadata": {},
   "outputs": [],
   "source": [
    "# Initialize the Random Forest model with default parameters\n",
    "rf_model = RandomForestClassifier(n_estimators=100, max_depth=None, min_samples_split=2, min_samples_leaf=1, random_state=42)\n"
   ]
  },
  {
   "cell_type": "code",
   "execution_count": null,
   "id": "44537700-8cf9-447c-9a2d-b00db97be33d",
   "metadata": {},
   "outputs": [],
   "source": [
    "# Train the model on the training data\n",
    "rf_model.fit(X_train, y_train)\n"
   ]
  },
  {
   "cell_type": "code",
   "execution_count": null,
   "id": "1f40991d-ef06-44d8-a6f4-8114ca208c2f",
   "metadata": {},
   "outputs": [],
   "source": [
    "# Predict on the test data\n",
    "y_pred = rf_model.predict(X_test)\n"
   ]
  },
  {
   "cell_type": "code",
   "execution_count": null,
   "id": "1cd89eef-1e38-40cb-ac51-706d4d1f085b",
   "metadata": {},
   "outputs": [],
   "source": [
    "# Calculate evaluation metrics\n",
    "accuracy = accuracy_score(y_test, y_pred)\n",
    "precision = precision_score(y_test, y_pred)\n",
    "recall = recall_score(y_test, y_pred)\n",
    "f1 = f1_score(y_test, y_pred)\n",
    "\n",
    "# Display metrics\n",
    "print(f'Accuracy: {accuracy}')\n",
    "print(f'Precision: {precision}')\n",
    "print(f'Recall: {recall}')\n",
    "print(f'F1-Score: {f1}')\n",
    "\n",
    "# Display the confusion matrix\n",
    "cm = confusion_matrix(y_test, y_pred)\n",
    "sns.heatmap(cm, annot=True, fmt='d', cmap='Blues')\n",
    "plt.xlabel('Predicted')\n",
    "plt.ylabel('Actual')\n",
    "plt.show()\n",
    "\n",
    "# Display the classification report\n",
    "print(classification_report(y_test, y_pred))\n"
   ]
  },
  {
   "cell_type": "code",
   "execution_count": null,
   "id": "4d3f781e-9218-4316-9577-3bbd29318286",
   "metadata": {},
   "outputs": [],
   "source": [
    "# Get feature importances\n",
    "feature_importances = rf_model.feature_importances_\n",
    "features = X.columns\n",
    "\n",
    "# Create a DataFrame for feature importances\n",
    "importance_df = pd.DataFrame({'Feature': features, 'Importance': feature_importances})\n",
    "importance_df = importance_df.sort_values(by='Importance', ascending=False)\n",
    "\n",
    "# Plot feature importances\n",
    "plt.figure(figsize=(10, 6))\n",
    "sns.barplot(x='Importance', y='Feature', data=importance_df)\n",
    "plt.title('Feature Importances')\n",
    "plt.show()\n"
   ]
  },
  {
   "cell_type": "code",
   "execution_count": null,
   "id": "5b9f701c-7a7c-4190-b3d7-715f09653a64",
   "metadata": {},
   "outputs": [],
   "source": [
    "# Define the parameter grid for Grid Search\n",
    "param_grid = {\n",
    "    'n_estimators': [100, 200, 300],\n",
    "    'max_depth': [None, 10, 20, 30],\n",
    "    'min_samples_split': [2, 5, 10],\n",
    "    'min_samples_leaf': [1, 2, 4],\n",
    "    'criterion': ['gini', 'entropy']\n",
    "}\n",
    "\n",
    "# Initialize Grid Search\n",
    "grid_search = GridSearchCV(estimator=rf_model, param_grid=param_grid, cv=5, n_jobs=-1, verbose=2)\n",
    "\n",
    "# Fit Grid Search\n",
    "grid_search.fit(X_train, y_train)\n",
    "\n",
    "# Get the best parameters and model\n",
    "best_params = grid_search.best_params_\n",
    "best_rf_model = grid_search.best_estimator_\n",
    "\n",
    "print(f'Best Parameters: {best_params}')\n"
   ]
  },
  {
   "cell_type": "code",
   "execution_count": null,
   "id": "17f70b09-8710-4048-9121-358fa024d4fe",
   "metadata": {},
   "outputs": [],
   "source": [
    "# Predict on the test data with the best model\n",
    "y_pred_best = best_rf_model.predict(X_test)\n",
    "\n",
    "# Calculate evaluation metrics\n",
    "accuracy_best = accuracy_score(y_test, y_pred_best)\n",
    "precision_best = precision_score(y_test, y_pred_best)\n",
    "recall_best = recall_score(y_test, y_pred_best)\n",
    "f1_best = f1_score(y_test, y_pred_best)\n",
    "\n",
    "# Display metrics\n",
    "print(f'Optimized Accuracy: {accuracy_best}')\n",
    "print(f'Optimized Precision: {precision_best}')\n",
    "print(f'Optimized Recall: {recall_best}')\n",
    "print(f'Optimized F1-Score: {f1_best}')\n"
   ]
  },
  {
   "cell_type": "code",
   "execution_count": null,
   "id": "ce8c0930-844a-4ad2-b069-608a465ce88e",
   "metadata": {},
   "outputs": [],
   "source": []
  },
  {
   "cell_type": "code",
   "execution_count": null,
   "id": "3968d9a5-a159-413b-89bd-d8a74781d658",
   "metadata": {},
   "outputs": [],
   "source": []
  }
 ],
 "metadata": {
  "kernelspec": {
   "display_name": "Python 3 (ipykernel)",
   "language": "python",
   "name": "python3"
  },
  "language_info": {
   "codemirror_mode": {
    "name": "ipython",
    "version": 3
   },
   "file_extension": ".py",
   "mimetype": "text/x-python",
   "name": "python",
   "nbconvert_exporter": "python",
   "pygments_lexer": "ipython3",
   "version": "3.9.12"
  }
 },
 "nbformat": 4,
 "nbformat_minor": 5
}
